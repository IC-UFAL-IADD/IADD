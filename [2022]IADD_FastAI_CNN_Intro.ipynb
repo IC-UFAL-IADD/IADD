{
  "cells": [
    {
      "cell_type": "markdown",
      "metadata": {
        "id": "view-in-github",
        "colab_type": "text"
      },
      "source": [
        "<a href=\"https://colab.research.google.com/github/IC-UFAL-IADD/IADD/blob/codebasics/%5B2022%5DIADD_FastAI_CNN_Intro.ipynb\" target=\"_parent\"><img src=\"https://colab.research.google.com/assets/colab-badge.svg\" alt=\"Open In Colab\"/></a>"
      ]
    },
    {
      "cell_type": "markdown",
      "metadata": {
        "id": "gdDE2VKs6X6V"
      },
      "source": [
        "### Created by Marcelo Oliveira on 06/2021.\n",
        "### Disciplina de Fundamentos de IA aplicados ao Diagnóstico de Doenças (IADD).\n",
        "### Copyright (c)2021 Instituto de Computação\n",
        "### Universidade Federal de Alagoas - UFAL. All rights reserved.\n",
        "\n",
        "References:\n",
        "\n",
        "https://www.kaggle.com/avirdee/siim-covid-19-initial-pipeline-fastai/notebook"
      ]
    },
    {
      "cell_type": "code",
      "source": [
        "!pip install -Uqq fastbook\n",
        "import fastbook\n",
        "fastbook.setup_book()"
      ],
      "metadata": {
        "id": "pSUOejAiJcKH"
      },
      "execution_count": 6,
      "outputs": []
    },
    {
      "cell_type": "code",
      "execution_count": 7,
      "metadata": {
        "id": "3mZEGu0L6VVG"
      },
      "outputs": [],
      "source": [
        "!pip install python-gdcm pydicom -q\n",
        "!pip install kornia -q\n",
        "!pip install scikit-image -q"
      ]
    },
    {
      "cell_type": "code",
      "source": [
        "import pydicom,kornia,skimage"
      ],
      "metadata": {
        "id": "zHqN3_2g3bv6"
      },
      "execution_count": 8,
      "outputs": []
    },
    {
      "cell_type": "code",
      "execution_count": null,
      "metadata": {
        "id": "mNpk0HR4C0DF"
      },
      "outputs": [],
      "source": [
        "import pydicom,kornia,skimage\n",
        "import os\n",
        "import pandas as pd"
      ]
    },
    {
      "cell_type": "code",
      "source": [
        "from fastbook import *\n",
        "from fastai.vision.all import *\n",
        "from fastai.text.all import *\n",
        "from fastai.collab import *\n",
        "from fastai.tabular.all import *\n",
        "from fastai.medical.imaging import *\n"
      ],
      "metadata": {
        "id": "akJ_47iG4YTK"
      },
      "execution_count": 9,
      "outputs": []
    },
    {
      "cell_type": "code",
      "execution_count": null,
      "metadata": {
        "id": "hKYdusHfGwlY"
      },
      "outputs": [],
      "source": [
        "#Instalar antes de Montar Drive\n",
        "!pip install umap-learn"
      ]
    },
    {
      "cell_type": "code",
      "execution_count": 12,
      "metadata": {
        "colab": {
          "base_uri": "https://localhost:8080/"
        },
        "id": "qa_WWTsL6zqU",
        "outputId": "48735790-a016-4a4d-b7ca-f318120aaa4b"
      },
      "outputs": [
        {
          "output_type": "stream",
          "name": "stdout",
          "text": [
            "['COVID', 'normal', 'models', 'covid_normal.csv']\n"
          ]
        }
      ],
      "source": [
        "!touch \"/content/drive/My Drive/ping.txt\"\n",
        "source=Path(\"/content/drive/My Drive/DataSets/Classificacao_COVID_NORMAL/\")\n",
        "root=\"/content/drive/My Drive/DataSets/Classificacao_COVID_NORMAL/\"\n",
        "files = os.listdir(source)\n",
        "print(files)"
      ]
    },
    {
      "cell_type": "code",
      "execution_count": 13,
      "metadata": {
        "id": "ASWLRO-c8wRy"
      },
      "outputs": [],
      "source": [
        "# A partir do das imagens gera o covid_normal.csv com a imagem(Path) e o label\n",
        "os.chdir(root)\n",
        "\n",
        "folders = ['normal', 'COVID']\n",
        "\n",
        "files = []\n",
        "\n",
        "for folder in folders:\n",
        "    for file in os.listdir(folder):\n",
        "        files.append([folder+'/'+file, folder])\n",
        "\n",
        "pd.DataFrame(files, columns=['files', 'target']).to_csv(root+'covid_normal.csv')"
      ]
    },
    {
      "cell_type": "code",
      "execution_count": 14,
      "metadata": {
        "colab": {
          "base_uri": "https://localhost:8080/",
          "height": 206
        },
        "id": "XphDQzim9VBr",
        "outputId": "f09b41f5-dce7-4ad9-da15-3973f2310570"
      },
      "outputs": [
        {
          "output_type": "execute_result",
          "data": {
            "text/plain": [
              "   Unnamed: 0                    files  target\n",
              "0           0  normal/00e3a7e91a34.dcm  normal\n",
              "1           1  normal/01a6995ec763.dcm  normal\n",
              "2           2  normal/01aefe9ed777.dcm  normal\n",
              "3           3  normal/01b3d67779e8.dcm  normal\n",
              "4           4  normal/01bf68877dab.dcm  normal"
            ],
            "text/html": [
              "\n",
              "  <div id=\"df-ada2a3cf-00dc-43a6-94f5-d593fa8165d9\">\n",
              "    <div class=\"colab-df-container\">\n",
              "      <div>\n",
              "<style scoped>\n",
              "    .dataframe tbody tr th:only-of-type {\n",
              "        vertical-align: middle;\n",
              "    }\n",
              "\n",
              "    .dataframe tbody tr th {\n",
              "        vertical-align: top;\n",
              "    }\n",
              "\n",
              "    .dataframe thead th {\n",
              "        text-align: right;\n",
              "    }\n",
              "</style>\n",
              "<table border=\"1\" class=\"dataframe\">\n",
              "  <thead>\n",
              "    <tr style=\"text-align: right;\">\n",
              "      <th></th>\n",
              "      <th>Unnamed: 0</th>\n",
              "      <th>files</th>\n",
              "      <th>target</th>\n",
              "    </tr>\n",
              "  </thead>\n",
              "  <tbody>\n",
              "    <tr>\n",
              "      <th>0</th>\n",
              "      <td>0</td>\n",
              "      <td>normal/00e3a7e91a34.dcm</td>\n",
              "      <td>normal</td>\n",
              "    </tr>\n",
              "    <tr>\n",
              "      <th>1</th>\n",
              "      <td>1</td>\n",
              "      <td>normal/01a6995ec763.dcm</td>\n",
              "      <td>normal</td>\n",
              "    </tr>\n",
              "    <tr>\n",
              "      <th>2</th>\n",
              "      <td>2</td>\n",
              "      <td>normal/01aefe9ed777.dcm</td>\n",
              "      <td>normal</td>\n",
              "    </tr>\n",
              "    <tr>\n",
              "      <th>3</th>\n",
              "      <td>3</td>\n",
              "      <td>normal/01b3d67779e8.dcm</td>\n",
              "      <td>normal</td>\n",
              "    </tr>\n",
              "    <tr>\n",
              "      <th>4</th>\n",
              "      <td>4</td>\n",
              "      <td>normal/01bf68877dab.dcm</td>\n",
              "      <td>normal</td>\n",
              "    </tr>\n",
              "  </tbody>\n",
              "</table>\n",
              "</div>\n",
              "      <button class=\"colab-df-convert\" onclick=\"convertToInteractive('df-ada2a3cf-00dc-43a6-94f5-d593fa8165d9')\"\n",
              "              title=\"Convert this dataframe to an interactive table.\"\n",
              "              style=\"display:none;\">\n",
              "        \n",
              "  <svg xmlns=\"http://www.w3.org/2000/svg\" height=\"24px\"viewBox=\"0 0 24 24\"\n",
              "       width=\"24px\">\n",
              "    <path d=\"M0 0h24v24H0V0z\" fill=\"none\"/>\n",
              "    <path d=\"M18.56 5.44l.94 2.06.94-2.06 2.06-.94-2.06-.94-.94-2.06-.94 2.06-2.06.94zm-11 1L8.5 8.5l.94-2.06 2.06-.94-2.06-.94L8.5 2.5l-.94 2.06-2.06.94zm10 10l.94 2.06.94-2.06 2.06-.94-2.06-.94-.94-2.06-.94 2.06-2.06.94z\"/><path d=\"M17.41 7.96l-1.37-1.37c-.4-.4-.92-.59-1.43-.59-.52 0-1.04.2-1.43.59L10.3 9.45l-7.72 7.72c-.78.78-.78 2.05 0 2.83L4 21.41c.39.39.9.59 1.41.59.51 0 1.02-.2 1.41-.59l7.78-7.78 2.81-2.81c.8-.78.8-2.07 0-2.86zM5.41 20L4 18.59l7.72-7.72 1.47 1.35L5.41 20z\"/>\n",
              "  </svg>\n",
              "      </button>\n",
              "      \n",
              "  <style>\n",
              "    .colab-df-container {\n",
              "      display:flex;\n",
              "      flex-wrap:wrap;\n",
              "      gap: 12px;\n",
              "    }\n",
              "\n",
              "    .colab-df-convert {\n",
              "      background-color: #E8F0FE;\n",
              "      border: none;\n",
              "      border-radius: 50%;\n",
              "      cursor: pointer;\n",
              "      display: none;\n",
              "      fill: #1967D2;\n",
              "      height: 32px;\n",
              "      padding: 0 0 0 0;\n",
              "      width: 32px;\n",
              "    }\n",
              "\n",
              "    .colab-df-convert:hover {\n",
              "      background-color: #E2EBFA;\n",
              "      box-shadow: 0px 1px 2px rgba(60, 64, 67, 0.3), 0px 1px 3px 1px rgba(60, 64, 67, 0.15);\n",
              "      fill: #174EA6;\n",
              "    }\n",
              "\n",
              "    [theme=dark] .colab-df-convert {\n",
              "      background-color: #3B4455;\n",
              "      fill: #D2E3FC;\n",
              "    }\n",
              "\n",
              "    [theme=dark] .colab-df-convert:hover {\n",
              "      background-color: #434B5C;\n",
              "      box-shadow: 0px 1px 3px 1px rgba(0, 0, 0, 0.15);\n",
              "      filter: drop-shadow(0px 1px 2px rgba(0, 0, 0, 0.3));\n",
              "      fill: #FFFFFF;\n",
              "    }\n",
              "  </style>\n",
              "\n",
              "      <script>\n",
              "        const buttonEl =\n",
              "          document.querySelector('#df-ada2a3cf-00dc-43a6-94f5-d593fa8165d9 button.colab-df-convert');\n",
              "        buttonEl.style.display =\n",
              "          google.colab.kernel.accessAllowed ? 'block' : 'none';\n",
              "\n",
              "        async function convertToInteractive(key) {\n",
              "          const element = document.querySelector('#df-ada2a3cf-00dc-43a6-94f5-d593fa8165d9');\n",
              "          const dataTable =\n",
              "            await google.colab.kernel.invokeFunction('convertToInteractive',\n",
              "                                                     [key], {});\n",
              "          if (!dataTable) return;\n",
              "\n",
              "          const docLinkHtml = 'Like what you see? Visit the ' +\n",
              "            '<a target=\"_blank\" href=https://colab.research.google.com/notebooks/data_table.ipynb>data table notebook</a>'\n",
              "            + ' to learn more about interactive tables.';\n",
              "          element.innerHTML = '';\n",
              "          dataTable['output_type'] = 'display_data';\n",
              "          await google.colab.output.renderOutput(dataTable, element);\n",
              "          const docLink = document.createElement('div');\n",
              "          docLink.innerHTML = docLinkHtml;\n",
              "          element.appendChild(docLink);\n",
              "        }\n",
              "      </script>\n",
              "    </div>\n",
              "  </div>\n",
              "  "
            ]
          },
          "metadata": {},
          "execution_count": 14
        }
      ],
      "source": [
        "df = pd.read_csv(source/'covid_normal.csv')\n",
        "df.head()"
      ]
    },
    {
      "cell_type": "code",
      "execution_count": 15,
      "metadata": {
        "id": "xwfWR0nOJxGE"
      },
      "outputs": [],
      "source": [
        "class FixMonochrome(PILDicom):\n",
        "    @classmethod\n",
        "    def create(cls, fn:(Path, str, bytes), fix_monochrome = True)->None:\n",
        "        if isinstance(fn, bytes): im = pydicom.dcmread(pydicom.filebase.DicomBytesIO(fn))\n",
        "        if isinstance(fn, (Path, str)): im = pydicom.dcmread(fn)\n",
        "        scaled = np.array(im.pixel_array)   \n",
        "        if fix_monochrome and im.PhotometricInterpretation == \"MONOCHROME1\":\n",
        "            scaled = np.amax(scaled) - scaled\n",
        "        scaled = scaled - np.min(scaled)\n",
        "        scaled = scaled / np.max(scaled)\n",
        "        scaled = (scaled * 255).astype(np.uint8)\n",
        "        pill_im = Image.fromarray(scaled)\n",
        "        return cls(pill_im)"
      ]
    },
    {
      "cell_type": "code",
      "execution_count": 16,
      "metadata": {
        "id": "gblMN8Gx_upM"
      },
      "outputs": [],
      "source": [
        "blocks = (ImageBlock(cls=FixMonochrome), CategoryBlock)\n"
      ]
    },
    {
      "cell_type": "code",
      "execution_count": 17,
      "metadata": {
        "id": "NZxr-G73_0l7"
      },
      "outputs": [],
      "source": [
        "data_block = DataBlock(blocks=blocks,\n",
        "                       getters = [ColReader('files', pref=source, suff=''), ColReader('target')],\n",
        "                       item_tfms = [Resize(224, 224)],\n",
        "                       splitter  = RandomSplitter(valid_pct=0.2, seed=42)\n",
        "                      )\n",
        "\n",
        "dls = data_block.dataloaders(df, bs=16, num_workers=0)  #bs (batch size), workers(processos na RAM, maior o bs maior o workers)\n",
        "\n",
        "#dls.one_batch()"
      ]
    },
    {
      "cell_type": "code",
      "execution_count": null,
      "metadata": {
        "id": "VtcmDUb5D56_"
      },
      "outputs": [],
      "source": [
        "learn = cnn_learner(dls, \n",
        "                    resnet34, \n",
        "                    metrics=[accuracy, error_rate])"
      ]
    },
    {
      "cell_type": "code",
      "execution_count": null,
      "metadata": {
        "id": "xlKRutkXD8V3"
      },
      "outputs": [],
      "source": [
        "learn.fine_tune(4)"
      ]
    },
    {
      "cell_type": "markdown",
      "metadata": {
        "id": "zurFp2vS9p_n"
      },
      "source": [
        "# Construir o Modelo"
      ]
    },
    {
      "cell_type": "code",
      "execution_count": 18,
      "metadata": {
        "id": "sbaT3imA9tKg"
      },
      "outputs": [],
      "source": [
        "#ni: canal de entrada (ou nº de features de entrada)\n",
        "#nf: features de saída\n",
        "def conv(ni, nf): return nn.Conv2d(ni, nf, kernel_size=3, stride=2, padding=1)"
      ]
    },
    {
      "cell_type": "code",
      "execution_count": 19,
      "metadata": {
        "id": "tENz-J7q-XHd"
      },
      "outputs": [],
      "source": [
        "# Batch Normalization: normalização dos dados para acelerar o treinamento;\n",
        "def bn(nf): return nn.BatchNorm2d(nf)"
      ]
    },
    {
      "cell_type": "code",
      "execution_count": 20,
      "metadata": {
        "id": "YcyCER3k-uPx"
      },
      "outputs": [],
      "source": [
        "def ReLU(): return nn.ReLU(inplace=False)"
      ]
    },
    {
      "cell_type": "code",
      "execution_count": 21,
      "metadata": {
        "id": "UYHLEvOu--Vp"
      },
      "outputs": [],
      "source": [
        "# Modelo\n",
        "modelIADD = nn.Sequential(\n",
        "    conv(1, 8),\n",
        "    bn(8),\n",
        "    ReLU(),\n",
        "    conv(8, 16),\n",
        "    bn(16),\n",
        "    ReLU(),\n",
        "    conv(16,32),\n",
        "    bn(32),\n",
        "    ReLU(),\n",
        "    conv(32, 16),\n",
        "    bn(16),\n",
        "    ReLU(),\n",
        "    conv(16, 10),\n",
        "    bn(10),\n",
        "    Flatten()\n",
        ")"
      ]
    },
    {
      "cell_type": "code",
      "execution_count": 22,
      "metadata": {
        "id": "j1EtrFeAAAWe"
      },
      "outputs": [],
      "source": [
        "#xb, yb = first(dls.valid)\n",
        "xb, yb = dls.one_batch()"
      ]
    },
    {
      "cell_type": "code",
      "execution_count": 23,
      "metadata": {
        "colab": {
          "base_uri": "https://localhost:8080/"
        },
        "id": "ftvAeT0HALXX",
        "outputId": "10b99e2d-3297-4788-d8e6-db40e153d21a"
      },
      "outputs": [
        {
          "output_type": "execute_result",
          "data": {
            "text/plain": [
              "torch.Size([16, 1, 224, 224])"
            ]
          },
          "metadata": {},
          "execution_count": 23
        }
      ],
      "source": [
        "#bs=16, chanel=1, size=224x224\n",
        "xb.shape"
      ]
    },
    {
      "cell_type": "code",
      "execution_count": 24,
      "metadata": {
        "colab": {
          "base_uri": "https://localhost:8080/"
        },
        "id": "P1InJay6DYrk",
        "outputId": "a70f90c1-6cfb-463e-ba3a-6cb5c99eef58"
      },
      "outputs": [
        {
          "output_type": "execute_result",
          "data": {
            "text/plain": [
              "2"
            ]
          },
          "metadata": {},
          "execution_count": 24
        }
      ],
      "source": [
        "# Total de CLasses\n",
        "dls.c"
      ]
    },
    {
      "cell_type": "code",
      "execution_count": 52,
      "metadata": {
        "id": "NEj9npqIAc60"
      },
      "outputs": [],
      "source": [
        "# No método Learner o Dropout é ativado automaticamente\n",
        "learn = Learner(\n",
        "    dls, \n",
        "    modelIADD, \n",
        "    #loss_func=F.cross_entropy, #funcao para minimizar o erro default\n",
        "    metrics=[accuracy, error_rate])"
      ]
    },
    {
      "cell_type": "code",
      "execution_count": null,
      "metadata": {
        "colab": {
          "base_uri": "https://localhost:8080/",
          "height": 763
        },
        "id": "qXQc__S_CZXK",
        "outputId": "2189a9d5-8ab0-4af2-dbd8-123af25ed906"
      },
      "outputs": [
        {
          "output_type": "display_data",
          "data": {
            "text/plain": [
              "<IPython.core.display.HTML object>"
            ],
            "text/html": [
              "\n",
              "<style>\n",
              "    /* Turns off some styling */\n",
              "    progress {\n",
              "        /* gets rid of default border in Firefox and Opera. */\n",
              "        border: none;\n",
              "        /* Needs to be in here for Safari polyfill so background images work as expected. */\n",
              "        background-size: auto;\n",
              "    }\n",
              "    .progress-bar-interrupted, .progress-bar-interrupted::-webkit-progress-bar {\n",
              "        background: #F44336;\n",
              "    }\n",
              "</style>\n"
            ]
          },
          "metadata": {}
        },
        {
          "output_type": "display_data",
          "data": {
            "text/plain": [
              "<IPython.core.display.HTML object>"
            ],
            "text/html": [
              ""
            ]
          },
          "metadata": {}
        },
        {
          "output_type": "execute_result",
          "data": {
            "text/plain": [
              "Sequential (Input shape: 16 x 1 x 224 x 224)\n",
              "============================================================================\n",
              "Layer (type)         Output Shape         Param #    Trainable \n",
              "============================================================================\n",
              "                     16 x 8 x 112 x 112  \n",
              "Conv2d                                    80         True      \n",
              "BatchNorm2d                               16         True      \n",
              "ReLU                                                           \n",
              "____________________________________________________________________________\n",
              "                     16 x 16 x 56 x 56   \n",
              "Conv2d                                    1168       True      \n",
              "BatchNorm2d                               32         True      \n",
              "ReLU                                                           \n",
              "____________________________________________________________________________\n",
              "                     16 x 32 x 28 x 28   \n",
              "Conv2d                                    4640       True      \n",
              "BatchNorm2d                               64         True      \n",
              "ReLU                                                           \n",
              "____________________________________________________________________________\n",
              "                     16 x 16 x 14 x 14   \n",
              "Conv2d                                    4624       True      \n",
              "BatchNorm2d                               32         True      \n",
              "ReLU                                                           \n",
              "____________________________________________________________________________\n",
              "                     16 x 10 x 7 x 7     \n",
              "Conv2d                                    1450       True      \n",
              "BatchNorm2d                               20         True      \n",
              "____________________________________________________________________________\n",
              "                     16 x 490            \n",
              "Flatten                                                        \n",
              "____________________________________________________________________________\n",
              "\n",
              "Total params: 12,126\n",
              "Total trainable params: 12,126\n",
              "Total non-trainable params: 0\n",
              "\n",
              "Optimizer used: <function Adam at 0x7f9ade379200>\n",
              "Loss function: <function cross_entropy at 0x7f9b0ee4f680>\n",
              "\n",
              "Callbacks:\n",
              "  - TrainEvalCallback\n",
              "  - Recorder\n",
              "  - ProgressCallback"
            ],
            "application/vnd.google.colaboratory.intrinsic+json": {
              "type": "string"
            }
          },
          "metadata": {},
          "execution_count": 31
        }
      ],
      "source": [
        "learn.summary()"
      ]
    },
    {
      "cell_type": "markdown",
      "source": [
        "Treinamento usando 4 épocas"
      ],
      "metadata": {
        "id": "15ucqKwt7gNi"
      }
    },
    {
      "cell_type": "code",
      "source": [
        "learn.fine_tune(4)"
      ],
      "metadata": {
        "colab": {
          "base_uri": "https://localhost:8080/",
          "height": 239
        },
        "id": "IzvrKkT2M1fT",
        "outputId": "604a2dc9-923c-4ea9-bcb0-01e6924acc04"
      },
      "execution_count": 53,
      "outputs": [
        {
          "output_type": "display_data",
          "data": {
            "text/plain": [
              "<IPython.core.display.HTML object>"
            ],
            "text/html": [
              "\n",
              "<style>\n",
              "    /* Turns off some styling */\n",
              "    progress {\n",
              "        /* gets rid of default border in Firefox and Opera. */\n",
              "        border: none;\n",
              "        /* Needs to be in here for Safari polyfill so background images work as expected. */\n",
              "        background-size: auto;\n",
              "    }\n",
              "    .progress-bar-interrupted, .progress-bar-interrupted::-webkit-progress-bar {\n",
              "        background: #F44336;\n",
              "    }\n",
              "</style>\n"
            ]
          },
          "metadata": {}
        },
        {
          "output_type": "display_data",
          "data": {
            "text/plain": [
              "<IPython.core.display.HTML object>"
            ],
            "text/html": [
              "<table border=\"1\" class=\"dataframe\">\n",
              "  <thead>\n",
              "    <tr style=\"text-align: left;\">\n",
              "      <th>epoch</th>\n",
              "      <th>train_loss</th>\n",
              "      <th>valid_loss</th>\n",
              "      <th>accuracy</th>\n",
              "      <th>error_rate</th>\n",
              "      <th>time</th>\n",
              "    </tr>\n",
              "  </thead>\n",
              "  <tbody>\n",
              "    <tr>\n",
              "      <td>0</td>\n",
              "      <td>2.545864</td>\n",
              "      <td>1.958419</td>\n",
              "      <td>0.590164</td>\n",
              "      <td>0.409836</td>\n",
              "      <td>04:36</td>\n",
              "    </tr>\n",
              "  </tbody>\n",
              "</table>"
            ]
          },
          "metadata": {}
        },
        {
          "output_type": "display_data",
          "data": {
            "text/plain": [
              "<IPython.core.display.HTML object>"
            ],
            "text/html": [
              "\n",
              "<style>\n",
              "    /* Turns off some styling */\n",
              "    progress {\n",
              "        /* gets rid of default border in Firefox and Opera. */\n",
              "        border: none;\n",
              "        /* Needs to be in here for Safari polyfill so background images work as expected. */\n",
              "        background-size: auto;\n",
              "    }\n",
              "    .progress-bar-interrupted, .progress-bar-interrupted::-webkit-progress-bar {\n",
              "        background: #F44336;\n",
              "    }\n",
              "</style>\n"
            ]
          },
          "metadata": {}
        },
        {
          "output_type": "display_data",
          "data": {
            "text/plain": [
              "<IPython.core.display.HTML object>"
            ],
            "text/html": [
              "<table border=\"1\" class=\"dataframe\">\n",
              "  <thead>\n",
              "    <tr style=\"text-align: left;\">\n",
              "      <th>epoch</th>\n",
              "      <th>train_loss</th>\n",
              "      <th>valid_loss</th>\n",
              "      <th>accuracy</th>\n",
              "      <th>error_rate</th>\n",
              "      <th>time</th>\n",
              "    </tr>\n",
              "  </thead>\n",
              "  <tbody>\n",
              "    <tr>\n",
              "      <td>0</td>\n",
              "      <td>2.388561</td>\n",
              "      <td>2.089743</td>\n",
              "      <td>0.622951</td>\n",
              "      <td>0.377049</td>\n",
              "      <td>04:29</td>\n",
              "    </tr>\n",
              "    <tr>\n",
              "      <td>1</td>\n",
              "      <td>2.286452</td>\n",
              "      <td>1.951958</td>\n",
              "      <td>0.663934</td>\n",
              "      <td>0.336066</td>\n",
              "      <td>04:52</td>\n",
              "    </tr>\n",
              "    <tr>\n",
              "      <td>2</td>\n",
              "      <td>2.215824</td>\n",
              "      <td>1.929188</td>\n",
              "      <td>0.655738</td>\n",
              "      <td>0.344262</td>\n",
              "      <td>04:32</td>\n",
              "    </tr>\n",
              "    <tr>\n",
              "      <td>3</td>\n",
              "      <td>2.152077</td>\n",
              "      <td>1.886434</td>\n",
              "      <td>0.639344</td>\n",
              "      <td>0.360656</td>\n",
              "      <td>04:26</td>\n",
              "    </tr>\n",
              "  </tbody>\n",
              "</table>"
            ]
          },
          "metadata": {}
        }
      ]
    },
    {
      "cell_type": "markdown",
      "source": [
        "### Salve o 1 estágio do Modelo para não precisar Retreiná-lo do zero. "
      ],
      "metadata": {
        "id": "P3wh-YmkaB8P"
      }
    },
    {
      "cell_type": "code",
      "source": [
        "# Save the model\n",
        "learn.save('stage-1')"
      ],
      "metadata": {
        "colab": {
          "base_uri": "https://localhost:8080/"
        },
        "id": "MWkmaOWMZ6mu",
        "outputId": "8e3c5026-fd82-41b5-8a57-cb323bfdb458"
      },
      "execution_count": 54,
      "outputs": [
        {
          "output_type": "execute_result",
          "data": {
            "text/plain": [
              "Path('models/stage-1.pth')"
            ]
          },
          "metadata": {},
          "execution_count": 54
        }
      ]
    },
    {
      "cell_type": "code",
      "source": [
        "# Load the Model\n",
        "learn.load('stage-1')"
      ],
      "metadata": {
        "colab": {
          "base_uri": "https://localhost:8080/"
        },
        "id": "rcNiyzMdZ9Mp",
        "outputId": "17dc0002-7fd7-4f99-cd35-d4263db2cff8"
      },
      "execution_count": 55,
      "outputs": [
        {
          "output_type": "execute_result",
          "data": {
            "text/plain": [
              "<fastai.learner.Learner at 0x7f6232949b90>"
            ]
          },
          "metadata": {},
          "execution_count": 55
        }
      ]
    },
    {
      "cell_type": "code",
      "source": [
        "interp = ClassificationInterpretation.from_learner(learn) "
      ],
      "metadata": {
        "colab": {
          "base_uri": "https://localhost:8080/",
          "height": 17
        },
        "id": "m1POGte2lm0O",
        "outputId": "f6d573e6-647e-4b25-afaa-1683638c4d1a"
      },
      "execution_count": 56,
      "outputs": [
        {
          "output_type": "display_data",
          "data": {
            "text/plain": [
              "<IPython.core.display.HTML object>"
            ],
            "text/html": [
              "\n",
              "<style>\n",
              "    /* Turns off some styling */\n",
              "    progress {\n",
              "        /* gets rid of default border in Firefox and Opera. */\n",
              "        border: none;\n",
              "        /* Needs to be in here for Safari polyfill so background images work as expected. */\n",
              "        background-size: auto;\n",
              "    }\n",
              "    .progress-bar-interrupted, .progress-bar-interrupted::-webkit-progress-bar {\n",
              "        background: #F44336;\n",
              "    }\n",
              "</style>\n"
            ]
          },
          "metadata": {}
        },
        {
          "output_type": "display_data",
          "data": {
            "text/plain": [
              "<IPython.core.display.HTML object>"
            ],
            "text/html": [
              ""
            ]
          },
          "metadata": {}
        }
      ]
    },
    {
      "cell_type": "code",
      "source": [
        "interp.plot_confusion_matrix(figsize=(15, 10), dpi=50)"
      ],
      "metadata": {
        "colab": {
          "base_uri": "https://localhost:8080/",
          "height": 520
        },
        "id": "Zom6OPk0qsdE",
        "outputId": "1615f4e3-79f7-4825-92a7-643c9bb589b0"
      },
      "execution_count": 57,
      "outputs": [
        {
          "output_type": "display_data",
          "data": {
            "text/plain": [
              "<IPython.core.display.HTML object>"
            ],
            "text/html": [
              "\n",
              "<style>\n",
              "    /* Turns off some styling */\n",
              "    progress {\n",
              "        /* gets rid of default border in Firefox and Opera. */\n",
              "        border: none;\n",
              "        /* Needs to be in here for Safari polyfill so background images work as expected. */\n",
              "        background-size: auto;\n",
              "    }\n",
              "    .progress-bar-interrupted, .progress-bar-interrupted::-webkit-progress-bar {\n",
              "        background: #F44336;\n",
              "    }\n",
              "</style>\n"
            ]
          },
          "metadata": {}
        },
        {
          "output_type": "display_data",
          "data": {
            "text/plain": [
              "<IPython.core.display.HTML object>"
            ],
            "text/html": [
              ""
            ]
          },
          "metadata": {}
        },
        {
          "output_type": "display_data",
          "data": {
            "text/plain": [
              "<Figure size 750x500 with 1 Axes>"
            ],
            "image/png": "[encoded data removed]"
          },
          "metadata": {
            "needs_background": "light"
          }
        }
      ]
    },
    {
      "cell_type": "code",
      "source": [
        "#Parametros da Matriz de Confusão\n",
        "upp, low = interp.confusion_matrix()\n",
        "VP, FN = upp[0], upp[1]\n",
        "FP, VN = low[0], low[1]\n",
        "\n",
        "print(VP, FN, FP, VN) #Dica: VP são as pessoas \"Verdadeiramente Doentes\", VN \"Verdadeiramente NÃO Doentes\""
      ],
      "metadata": {
        "colab": {
          "base_uri": "https://localhost:8080/",
          "height": 34
        },
        "id": "oRzp4kdmnnML",
        "outputId": "70d28ce4-c37f-4527-8865-fbc3d769e8ec"
      },
      "execution_count": 58,
      "outputs": [
        {
          "output_type": "display_data",
          "data": {
            "text/plain": [
              "<IPython.core.display.HTML object>"
            ],
            "text/html": [
              "\n",
              "<style>\n",
              "    /* Turns off some styling */\n",
              "    progress {\n",
              "        /* gets rid of default border in Firefox and Opera. */\n",
              "        border: none;\n",
              "        /* Needs to be in here for Safari polyfill so background images work as expected. */\n",
              "        background-size: auto;\n",
              "    }\n",
              "    .progress-bar-interrupted, .progress-bar-interrupted::-webkit-progress-bar {\n",
              "        background: #F44336;\n",
              "    }\n",
              "</style>\n"
            ]
          },
          "metadata": {}
        },
        {
          "output_type": "display_data",
          "data": {
            "text/plain": [
              "<IPython.core.display.HTML object>"
            ],
            "text/html": [
              ""
            ]
          },
          "metadata": {}
        },
        {
          "output_type": "stream",
          "name": "stdout",
          "text": [
            "74 1 43 4\n"
          ]
        }
      ]
    },
    {
      "cell_type": "code",
      "source": [
        "#Parametros da Matriz de Confusão\n",
        "upp, low = interp.confusion_matrix()\n",
        "VP, FN = upp[0], upp[1]\n",
        "FP, VN = low[0], low[1]\n",
        "\n",
        "print(VP, FN, FP, VN) #Dica: VP são as pessoas \"Verdadeiramente Doentes\", VN \"Verdadeiramente NÃO Doentes\""
      ],
      "metadata": {
        "id": "Y2GN8OdVXgMM",
        "colab": {
          "base_uri": "https://localhost:8080/",
          "height": 34
        },
        "outputId": "f8a09796-3a09-4e23-f102-9ad7e0b234c7"
      },
      "execution_count": 59,
      "outputs": [
        {
          "output_type": "display_data",
          "data": {
            "text/plain": [
              "<IPython.core.display.HTML object>"
            ],
            "text/html": [
              "\n",
              "<style>\n",
              "    /* Turns off some styling */\n",
              "    progress {\n",
              "        /* gets rid of default border in Firefox and Opera. */\n",
              "        border: none;\n",
              "        /* Needs to be in here for Safari polyfill so background images work as expected. */\n",
              "        background-size: auto;\n",
              "    }\n",
              "    .progress-bar-interrupted, .progress-bar-interrupted::-webkit-progress-bar {\n",
              "        background: #F44336;\n",
              "    }\n",
              "</style>\n"
            ]
          },
          "metadata": {}
        },
        {
          "output_type": "display_data",
          "data": {
            "text/plain": [
              "<IPython.core.display.HTML object>"
            ],
            "text/html": [
              ""
            ]
          },
          "metadata": {}
        },
        {
          "output_type": "stream",
          "name": "stdout",
          "text": [
            "74 1 43 4\n"
          ]
        }
      ]
    },
    {
      "cell_type": "markdown",
      "source": [
        "### Sensibilidade e Especifidade (Sensitivity and Specificity)"
      ],
      "metadata": {
        "id": "HFG6GFY2Xj8A"
      }
    },
    {
      "cell_type": "code",
      "source": [
        "#Sensibilidade = Verdadeiro Positivo/(Verdadeiro Positivo + False Negativo)\n",
        "\n",
        "Sensibilidade = VP/(VP + FN)\n",
        "Sensibilidade\n"
      ],
      "metadata": {
        "id": "legEfI0lXnei",
        "colab": {
          "base_uri": "https://localhost:8080/"
        },
        "outputId": "726e1b8f-f7d1-4bf4-ac22-60d9d2f162c9"
      },
      "execution_count": 60,
      "outputs": [
        {
          "output_type": "execute_result",
          "data": {
            "text/plain": [
              "0.9866666666666667"
            ]
          },
          "metadata": {},
          "execution_count": 60
        }
      ]
    },
    {
      "cell_type": "code",
      "source": [
        "#Especificidade = Verdadeiro Negativo/(False Positivo + Verdadeiro Negativo\n",
        "\n",
        "Especificidade = VN/(FP + VN)\n",
        "Especificidade"
      ],
      "metadata": {
        "id": "6oWInXNoXrz8",
        "colab": {
          "base_uri": "https://localhost:8080/"
        },
        "outputId": "25cbfa45-cd5d-4692-d437-1c861248e9f4"
      },
      "execution_count": 61,
      "outputs": [
        {
          "output_type": "execute_result",
          "data": {
            "text/plain": [
              "0.0851063829787234"
            ]
          },
          "metadata": {},
          "execution_count": 61
        }
      ]
    },
    {
      "cell_type": "markdown",
      "source": [
        "### Acuracia: Informa quantos de nossos exemplos foram de fato classificados corretamente, independente da classe. Ex.: Por exemplo, se temos 100 observações e 90 delas foram classificados corretamente, nosso modelo possui uma acurácia de 90%."
      ],
      "metadata": {
        "id": "vNhtzhO2Xz8-"
      }
    },
    {
      "cell_type": "code",
      "source": [
        "preds,y, loss = learn.get_preds(with_loss=True)\n",
        "# get accuracy\n",
        "acc = accuracy(preds, y)\n",
        "print('The accuracy is {0} %.'.format(acc))"
      ],
      "metadata": {
        "id": "iEHXCHTSXx9h",
        "colab": {
          "base_uri": "https://localhost:8080/",
          "height": 34
        },
        "outputId": "b5839a5a-4d7f-4ad8-a472-357f9a984082"
      },
      "execution_count": 62,
      "outputs": [
        {
          "output_type": "display_data",
          "data": {
            "text/plain": [
              "<IPython.core.display.HTML object>"
            ],
            "text/html": [
              "\n",
              "<style>\n",
              "    /* Turns off some styling */\n",
              "    progress {\n",
              "        /* gets rid of default border in Firefox and Opera. */\n",
              "        border: none;\n",
              "        /* Needs to be in here for Safari polyfill so background images work as expected. */\n",
              "        background-size: auto;\n",
              "    }\n",
              "    .progress-bar-interrupted, .progress-bar-interrupted::-webkit-progress-bar {\n",
              "        background: #F44336;\n",
              "    }\n",
              "</style>\n"
            ]
          },
          "metadata": {}
        },
        {
          "output_type": "display_data",
          "data": {
            "text/plain": [
              "<IPython.core.display.HTML object>"
            ],
            "text/html": [
              ""
            ]
          },
          "metadata": {}
        },
        {
          "output_type": "stream",
          "name": "stdout",
          "text": [
            "The accuracy is 0.6393442749977112 %.\n"
          ]
        }
      ]
    },
    {
      "cell_type": "markdown",
      "source": [
        "### AUC — Area Under the Curve ou AUROC — Area Under the Receiver Operating Characteristic curve): vantagem desta métrica é que ela não é sensível ao desbalanço de classes, como ocorre com a acurácia."
      ],
      "metadata": {
        "id": "4fwQJ5Q8X53x"
      }
    },
    {
      "cell_type": "code",
      "source": [
        "from sklearn.metrics import roc_curve, auc\n",
        "# probs from log preds\n",
        "probs = np.exp(preds[:,1])\n",
        "# Compute ROC curve\n",
        "fpr, tpr, thresholds = roc_curve(y, probs, pos_label=1)\n",
        "\n",
        "# Compute ROC area\n",
        "roc_auc = auc(fpr, tpr)\n",
        "print('ROC area is {0}'.format(roc_auc))"
      ],
      "metadata": {
        "id": "RFq44sNJX9UM",
        "colab": {
          "base_uri": "https://localhost:8080/"
        },
        "outputId": "8c051a5c-bb86-4d0c-d74b-055d77c7f95d"
      },
      "execution_count": 63,
      "outputs": [
        {
          "output_type": "stream",
          "name": "stdout",
          "text": [
            "ROC area is 0.6556028368794325\n"
          ]
        }
      ]
    },
    {
      "cell_type": "code",
      "source": [
        "plt.figure()\n",
        "plt.plot(fpr, tpr, color='darkorange', label='ROC curve (area = %0.2f)' % roc_auc)\n",
        "plt.plot([0, 1], [0, 1], color='navy', linestyle='--')\n",
        "plt.xlim([-0.01, 1.0])\n",
        "plt.ylim([0.0, 1.01])\n",
        "plt.xlabel('False Positive Rate')\n",
        "plt.ylabel('True Positive Rate')\n",
        "plt.title('Receiver operating characteristic')\n",
        "plt.legend(loc=\"lower right\")"
      ],
      "metadata": {
        "id": "rD1rTOS7X_K3",
        "colab": {
          "base_uri": "https://localhost:8080/",
          "height": 312
        },
        "outputId": "f638a320-b8e1-414a-9248-25704f42863d"
      },
      "execution_count": 64,
      "outputs": [
        {
          "output_type": "execute_result",
          "data": {
            "text/plain": [
              "<matplotlib.legend.Legend at 0x7f61d9b4cbd0>"
            ]
          },
          "metadata": {},
          "execution_count": 64
        },
        {
          "output_type": "display_data",
          "data": {
            "text/plain": [
              "<Figure size 432x288 with 1 Axes>"
            ],
            "image/png": "[encoded data removed]"
          },
          "metadata": {
            "needs_background": "light"
          }
        }
      ]
    }
  ],
  "metadata": {
    "accelerator": "GPU",
    "colab": {
      "name": "[2022]IADD_FastAI_CNN_Intro.ipynb",
      "provenance": [],
      "collapsed_sections": [],
      "mount_file_id": "1JhitztpO2Ri-OG8FjaGDO8fwyYBbyETX",
      "authorship_tag": "ABX9TyOSPCCIGWNlwTlenryhQ4M/",
      "include_colab_link": true
    },
    "kernelspec": {
      "display_name": "Python 3",
      "name": "python3"
    },
    "language_info": {
      "name": "python"
    }
  },
  "nbformat": 4,
  "nbformat_minor": 0
}
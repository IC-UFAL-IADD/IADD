{
  "cells": [
    {
      "cell_type": "markdown",
      "metadata": {
        "id": "view-in-github",
        "colab_type": "text"
      },
      "source": [
        "<a href=\"https://colab.research.google.com/github/IC-UFAL-IADD/IADD/blob/codebasics/%5B2022%5DIADD_FastAI_CNN_Intro.ipynb\" target=\"_parent\"><img src=\"https://colab.research.google.com/assets/colab-badge.svg\" alt=\"Open In Colab\"/></a>"
      ]
    },
    {
      "cell_type": "markdown",
      "metadata": {
        "id": "gdDE2VKs6X6V"
      },
      "source": [
        "### Created by Marcelo Oliveira on 06/2021.\n",
        "### Disciplina de Fundamentos de IA aplicados ao Diagnóstico de Doenças (IADD).\n",
        "### Copyright (c)2021 Instituto de Computação\n",
        "### Universidade Federal de Alagoas - UFAL. All rights reserved.\n",
        "\n",
        "References:\n",
        "\n",
        "https://www.kaggle.com/avirdee/siim-covid-19-initial-pipeline-fastai/notebook"
      ]
    },
    {
      "cell_type": "code",
      "source": [
        "!pip install -Uqq fastbook\n",
        "import fastbook\n",
        "fastbook.setup_book()"
      ],
      "metadata": {
        "id": "pSUOejAiJcKH"
      },
      "execution_count": 9,
      "outputs": []
    },
    {
      "cell_type": "code",
      "execution_count": 10,
      "metadata": {
        "id": "3mZEGu0L6VVG"
      },
      "outputs": [],
      "source": [
        "!pip install python-gdcm pydicom -q\n",
        "!pip install kornia -q\n",
        "!pip install scikit-image -q"
      ]
    },
    {
      "cell_type": "code",
      "source": [
        "#import fastai; print(fastai.__version__)\n",
        "#import fastcore; print(fastcore.__version__)\n",
        "import pydicom,kornia,skimage"
      ],
      "metadata": {
        "id": "zHqN3_2g3bv6"
      },
      "execution_count": 11,
      "outputs": []
    },
    {
      "cell_type": "code",
      "execution_count": 12,
      "metadata": {
        "id": "mNpk0HR4C0DF"
      },
      "outputs": [],
      "source": [
        "import pydicom,kornia,skimage\n",
        "import os\n",
        "import pandas as pd"
      ]
    },
    {
      "cell_type": "code",
      "source": [
        "from fastbook import *\n",
        "from torch import nn\n",
        "\n",
        "from fastai.callback.hook import summary\n",
        "from fastai.callback.schedule import fit_one_cycle, lr_find \n",
        "from fastai.callback.progress import ProgressCallback\n",
        "\n",
        "from fastai.data.core import Datasets, DataLoaders, show_at\n",
        "from fastai.data.external import untar_data, URLs\n",
        "from fastai.data.transforms import Categorize, GrandparentSplitter, parent_label, ToTensor, IntToFloatTensor, Normalize\n",
        "\n",
        "from fastai.layers import Flatten\n",
        "from fastai.learner import Learner\n",
        "\n",
        "from fastai.metrics import accuracy, CrossEntropyLossFlat\n",
        "\n",
        "from fastai.vision.augment import CropPad, RandomCrop, PadMode\n",
        "from fastai.vision.core import PILImageBW\n",
        "from fastai.vision.utils import get_image_files\n",
        "\n",
        "from fastai.vision.all import *\n",
        "from fastai.text.all import *\n",
        "from fastai.collab import *\n",
        "from fastai.tabular.all import *\n",
        "from fastai.medical.imaging import *\n"
      ],
      "metadata": {
        "id": "akJ_47iG4YTK"
      },
      "execution_count": 13,
      "outputs": []
    },
    {
      "cell_type": "code",
      "execution_count": 14,
      "metadata": {
        "id": "hKYdusHfGwlY",
        "colab": {
          "base_uri": "https://localhost:8080/"
        },
        "outputId": "e50e7cf7-156c-4c69-cf0c-367c08a729fd"
      },
      "outputs": [
        {
          "output_type": "stream",
          "name": "stdout",
          "text": [
            "Collecting umap-learn\n",
            "  Downloading umap-learn-0.5.3.tar.gz (88 kB)\n",
            "\u001b[?25l\r\u001b[K     |███▊                            | 10 kB 35.6 MB/s eta 0:00:01\r\u001b[K     |███████▍                        | 20 kB 42.1 MB/s eta 0:00:01\r\u001b[K     |███████████▏                    | 30 kB 45.3 MB/s eta 0:00:01\r\u001b[K     |██████████████▉                 | 40 kB 32.9 MB/s eta 0:00:01\r\u001b[K     |██████████████████▋             | 51 kB 31.6 MB/s eta 0:00:01\r\u001b[K     |██████████████████████▎         | 61 kB 35.5 MB/s eta 0:00:01\r\u001b[K     |██████████████████████████      | 71 kB 28.4 MB/s eta 0:00:01\r\u001b[K     |█████████████████████████████▊  | 81 kB 29.9 MB/s eta 0:00:01\r\u001b[K     |████████████████████████████████| 88 kB 8.2 MB/s \n",
            "\u001b[?25hRequirement already satisfied: numpy>=1.17 in /usr/local/lib/python3.7/dist-packages (from umap-learn) (1.21.6)\n",
            "Requirement already satisfied: scikit-learn>=0.22 in /usr/local/lib/python3.7/dist-packages (from umap-learn) (1.0.2)\n",
            "Requirement already satisfied: scipy>=1.0 in /usr/local/lib/python3.7/dist-packages (from umap-learn) (1.4.1)\n",
            "Requirement already satisfied: numba>=0.49 in /usr/local/lib/python3.7/dist-packages (from umap-learn) (0.51.2)\n",
            "Collecting pynndescent>=0.5\n",
            "  Downloading pynndescent-0.5.7.tar.gz (1.1 MB)\n",
            "\u001b[K     |████████████████████████████████| 1.1 MB 59.9 MB/s \n",
            "\u001b[?25hRequirement already satisfied: tqdm in /usr/local/lib/python3.7/dist-packages (from umap-learn) (4.64.0)\n",
            "Requirement already satisfied: llvmlite<0.35,>=0.34.0.dev0 in /usr/local/lib/python3.7/dist-packages (from numba>=0.49->umap-learn) (0.34.0)\n",
            "Requirement already satisfied: setuptools in /usr/local/lib/python3.7/dist-packages (from numba>=0.49->umap-learn) (57.4.0)\n",
            "Requirement already satisfied: joblib>=0.11 in /usr/local/lib/python3.7/dist-packages (from pynndescent>=0.5->umap-learn) (1.1.0)\n",
            "Requirement already satisfied: threadpoolctl>=2.0.0 in /usr/local/lib/python3.7/dist-packages (from scikit-learn>=0.22->umap-learn) (3.1.0)\n",
            "Building wheels for collected packages: umap-learn, pynndescent\n",
            "  Building wheel for umap-learn (setup.py) ... \u001b[?25l\u001b[?25hdone\n",
            "  Created wheel for umap-learn: filename=umap_learn-0.5.3-py3-none-any.whl size=82829 sha256=a07c49341c43cbfe4495def92cfe709d74f9dd22a8287832953c85ae905da682\n",
            "  Stored in directory: /root/.cache/pip/wheels/b3/52/a5/1fd9e3e76a7ab34f134c07469cd6f16e27ef3a37aeff1fe821\n",
            "  Building wheel for pynndescent (setup.py) ... \u001b[?25l\u001b[?25hdone\n",
            "  Created wheel for pynndescent: filename=pynndescent-0.5.7-py3-none-any.whl size=54286 sha256=9e5703c5b149805dbc093cec0ec6ea3718ff95d67fdcd359fd1337d021bf04dc\n",
            "  Stored in directory: /root/.cache/pip/wheels/7f/2a/f8/7bd5dcec71bd5c669f6f574db3113513696b98f3f9b51f496c\n",
            "Successfully built umap-learn pynndescent\n",
            "Installing collected packages: pynndescent, umap-learn\n",
            "Successfully installed pynndescent-0.5.7 umap-learn-0.5.3\n"
          ]
        }
      ],
      "source": [
        "#Instalar antes de Montar Drive\n",
        "!pip install umap-learn"
      ]
    },
    {
      "cell_type": "code",
      "execution_count": 16,
      "metadata": {
        "colab": {
          "base_uri": "https://localhost:8080/"
        },
        "id": "qa_WWTsL6zqU",
        "outputId": "e233507b-2a61-4921-f2d5-90efc8745944"
      },
      "outputs": [
        {
          "output_type": "stream",
          "name": "stdout",
          "text": [
            "['COVID', 'normal', 'models', 'covid_normal.csv']\n"
          ]
        }
      ],
      "source": [
        "!touch \"/content/drive/My Drive/ping.txt\"\n",
        "source=Path(\"/content/drive/My Drive/DataSets/Classificacao_COVID_NORMAL/\")\n",
        "root=\"/content/drive/My Drive/DataSets/Classificacao_COVID_NORMAL/\"\n",
        "files = os.listdir(source)\n",
        "print(files)"
      ]
    },
    {
      "cell_type": "code",
      "execution_count": 17,
      "metadata": {
        "id": "ASWLRO-c8wRy"
      },
      "outputs": [],
      "source": [
        "# A partir do das imagens gera o covid_normal.csv com a imagem(Path) e o label\n",
        "os.chdir(root)\n",
        "\n",
        "folders = ['normal', 'COVID']\n",
        "\n",
        "files = []\n",
        "\n",
        "for folder in folders:\n",
        "    for file in os.listdir(folder):\n",
        "        files.append([folder+'/'+file, folder])\n",
        "\n",
        "pd.DataFrame(files, columns=['files', 'target']).to_csv(root+'covid_normal.csv')"
      ]
    },
    {
      "cell_type": "code",
      "execution_count": 18,
      "metadata": {
        "colab": {
          "base_uri": "https://localhost:8080/",
          "height": 206
        },
        "id": "XphDQzim9VBr",
        "outputId": "76e88388-d55a-4d7e-9051-bc04403be6b8"
      },
      "outputs": [
        {
          "output_type": "execute_result",
          "data": {
            "text/plain": [
              "   Unnamed: 0                    files  target\n",
              "0           0  normal/00e3a7e91a34.dcm  normal\n",
              "1           1  normal/01a6995ec763.dcm  normal\n",
              "2           2  normal/01aefe9ed777.dcm  normal\n",
              "3           3  normal/01b3d67779e8.dcm  normal\n",
              "4           4  normal/01bf68877dab.dcm  normal"
            ],
            "text/html": [
              "\n",
              "  <div id=\"df-c4432f0d-348a-4da9-9e68-fc0d8860668e\">\n",
              "    <div class=\"colab-df-container\">\n",
              "      <div>\n",
              "<style scoped>\n",
              "    .dataframe tbody tr th:only-of-type {\n",
              "        vertical-align: middle;\n",
              "    }\n",
              "\n",
              "    .dataframe tbody tr th {\n",
              "        vertical-align: top;\n",
              "    }\n",
              "\n",
              "    .dataframe thead th {\n",
              "        text-align: right;\n",
              "    }\n",
              "</style>\n",
              "<table border=\"1\" class=\"dataframe\">\n",
              "  <thead>\n",
              "    <tr style=\"text-align: right;\">\n",
              "      <th></th>\n",
              "      <th>Unnamed: 0</th>\n",
              "      <th>files</th>\n",
              "      <th>target</th>\n",
              "    </tr>\n",
              "  </thead>\n",
              "  <tbody>\n",
              "    <tr>\n",
              "      <th>0</th>\n",
              "      <td>0</td>\n",
              "      <td>normal/00e3a7e91a34.dcm</td>\n",
              "      <td>normal</td>\n",
              "    </tr>\n",
              "    <tr>\n",
              "      <th>1</th>\n",
              "      <td>1</td>\n",
              "      <td>normal/01a6995ec763.dcm</td>\n",
              "      <td>normal</td>\n",
              "    </tr>\n",
              "    <tr>\n",
              "      <th>2</th>\n",
              "      <td>2</td>\n",
              "      <td>normal/01aefe9ed777.dcm</td>\n",
              "      <td>normal</td>\n",
              "    </tr>\n",
              "    <tr>\n",
              "      <th>3</th>\n",
              "      <td>3</td>\n",
              "      <td>normal/01b3d67779e8.dcm</td>\n",
              "      <td>normal</td>\n",
              "    </tr>\n",
              "    <tr>\n",
              "      <th>4</th>\n",
              "      <td>4</td>\n",
              "      <td>normal/01bf68877dab.dcm</td>\n",
              "      <td>normal</td>\n",
              "    </tr>\n",
              "  </tbody>\n",
              "</table>\n",
              "</div>\n",
              "      <button class=\"colab-df-convert\" onclick=\"convertToInteractive('df-c4432f0d-348a-4da9-9e68-fc0d8860668e')\"\n",
              "              title=\"Convert this dataframe to an interactive table.\"\n",
              "              style=\"display:none;\">\n",
              "        \n",
              "  <svg xmlns=\"http://www.w3.org/2000/svg\" height=\"24px\"viewBox=\"0 0 24 24\"\n",
              "       width=\"24px\">\n",
              "    <path d=\"M0 0h24v24H0V0z\" fill=\"none\"/>\n",
              "    <path d=\"M18.56 5.44l.94 2.06.94-2.06 2.06-.94-2.06-.94-.94-2.06-.94 2.06-2.06.94zm-11 1L8.5 8.5l.94-2.06 2.06-.94-2.06-.94L8.5 2.5l-.94 2.06-2.06.94zm10 10l.94 2.06.94-2.06 2.06-.94-2.06-.94-.94-2.06-.94 2.06-2.06.94z\"/><path d=\"M17.41 7.96l-1.37-1.37c-.4-.4-.92-.59-1.43-.59-.52 0-1.04.2-1.43.59L10.3 9.45l-7.72 7.72c-.78.78-.78 2.05 0 2.83L4 21.41c.39.39.9.59 1.41.59.51 0 1.02-.2 1.41-.59l7.78-7.78 2.81-2.81c.8-.78.8-2.07 0-2.86zM5.41 20L4 18.59l7.72-7.72 1.47 1.35L5.41 20z\"/>\n",
              "  </svg>\n",
              "      </button>\n",
              "      \n",
              "  <style>\n",
              "    .colab-df-container {\n",
              "      display:flex;\n",
              "      flex-wrap:wrap;\n",
              "      gap: 12px;\n",
              "    }\n",
              "\n",
              "    .colab-df-convert {\n",
              "      background-color: #E8F0FE;\n",
              "      border: none;\n",
              "      border-radius: 50%;\n",
              "      cursor: pointer;\n",
              "      display: none;\n",
              "      fill: #1967D2;\n",
              "      height: 32px;\n",
              "      padding: 0 0 0 0;\n",
              "      width: 32px;\n",
              "    }\n",
              "\n",
              "    .colab-df-convert:hover {\n",
              "      background-color: #E2EBFA;\n",
              "      box-shadow: 0px 1px 2px rgba(60, 64, 67, 0.3), 0px 1px 3px 1px rgba(60, 64, 67, 0.15);\n",
              "      fill: #174EA6;\n",
              "    }\n",
              "\n",
              "    [theme=dark] .colab-df-convert {\n",
              "      background-color: #3B4455;\n",
              "      fill: #D2E3FC;\n",
              "    }\n",
              "\n",
              "    [theme=dark] .colab-df-convert:hover {\n",
              "      background-color: #434B5C;\n",
              "      box-shadow: 0px 1px 3px 1px rgba(0, 0, 0, 0.15);\n",
              "      filter: drop-shadow(0px 1px 2px rgba(0, 0, 0, 0.3));\n",
              "      fill: #FFFFFF;\n",
              "    }\n",
              "  </style>\n",
              "\n",
              "      <script>\n",
              "        const buttonEl =\n",
              "          document.querySelector('#df-c4432f0d-348a-4da9-9e68-fc0d8860668e button.colab-df-convert');\n",
              "        buttonEl.style.display =\n",
              "          google.colab.kernel.accessAllowed ? 'block' : 'none';\n",
              "\n",
              "        async function convertToInteractive(key) {\n",
              "          const element = document.querySelector('#df-c4432f0d-348a-4da9-9e68-fc0d8860668e');\n",
              "          const dataTable =\n",
              "            await google.colab.kernel.invokeFunction('convertToInteractive',\n",
              "                                                     [key], {});\n",
              "          if (!dataTable) return;\n",
              "\n",
              "          const docLinkHtml = 'Like what you see? Visit the ' +\n",
              "            '<a target=\"_blank\" href=https://colab.research.google.com/notebooks/data_table.ipynb>data table notebook</a>'\n",
              "            + ' to learn more about interactive tables.';\n",
              "          element.innerHTML = '';\n",
              "          dataTable['output_type'] = 'display_data';\n",
              "          await google.colab.output.renderOutput(dataTable, element);\n",
              "          const docLink = document.createElement('div');\n",
              "          docLink.innerHTML = docLinkHtml;\n",
              "          element.appendChild(docLink);\n",
              "        }\n",
              "      </script>\n",
              "    </div>\n",
              "  </div>\n",
              "  "
            ]
          },
          "metadata": {},
          "execution_count": 18
        }
      ],
      "source": [
        "df = pd.read_csv(source/'covid_normal.csv')\n",
        "df.head()"
      ]
    },
    {
      "cell_type": "code",
      "execution_count": 19,
      "metadata": {
        "id": "xwfWR0nOJxGE"
      },
      "outputs": [],
      "source": [
        "class FixMonochrome(PILDicom):\n",
        "    @classmethod\n",
        "    def create(cls, fn:(Path, str, bytes), fix_monochrome = True)->None:\n",
        "        if isinstance(fn, bytes): im = pydicom.dcmread(pydicom.filebase.DicomBytesIO(fn))\n",
        "        if isinstance(fn, (Path, str)): im = pydicom.dcmread(fn)\n",
        "        scaled = np.array(im.pixel_array)   \n",
        "        if fix_monochrome and im.PhotometricInterpretation == \"MONOCHROME1\":\n",
        "            scaled = np.amax(scaled) - scaled\n",
        "        scaled = scaled - np.min(scaled)\n",
        "        scaled = scaled / np.max(scaled)\n",
        "        scaled = (scaled * 255).astype(np.uint8)\n",
        "        pill_im = Image.fromarray(scaled)\n",
        "        return cls(pill_im)"
      ]
    },
    {
      "cell_type": "code",
      "execution_count": 20,
      "metadata": {
        "id": "gblMN8Gx_upM"
      },
      "outputs": [],
      "source": [
        "blocks = (ImageBlock(cls=FixMonochrome), CategoryBlock)\n"
      ]
    },
    {
      "cell_type": "code",
      "execution_count": 21,
      "metadata": {
        "id": "NZxr-G73_0l7"
      },
      "outputs": [],
      "source": [
        "data_block = DataBlock(blocks=blocks,\n",
        "                       getters = [ColReader('files', pref=source, suff=''), ColReader('target')],\n",
        "                       item_tfms = [Resize(224, 224)],\n",
        "                       splitter  = RandomSplitter(valid_pct=0.2, seed=42)\n",
        "                      )\n",
        "\n",
        "dls = data_block.dataloaders(df, bs=16, num_workers=0)  #bs (batch size), workers(processos na RAM, maior o bs maior o workers)\n",
        "\n",
        "#dls.one_batch()"
      ]
    },
    {
      "cell_type": "code",
      "execution_count": null,
      "metadata": {
        "id": "VtcmDUb5D56_"
      },
      "outputs": [],
      "source": [
        "learn = cnn_learner(dls, \n",
        "                    resnet34, \n",
        "                    metrics=[accuracy, error_rate])"
      ]
    },
    {
      "cell_type": "code",
      "execution_count": null,
      "metadata": {
        "id": "xlKRutkXD8V3"
      },
      "outputs": [],
      "source": [
        "learn.fine_tune(4)"
      ]
    },
    {
      "cell_type": "markdown",
      "metadata": {
        "id": "zurFp2vS9p_n"
      },
      "source": [
        "# Construir o Modelo"
      ]
    },
    {
      "cell_type": "code",
      "execution_count": 22,
      "metadata": {
        "id": "sbaT3imA9tKg"
      },
      "outputs": [],
      "source": [
        "#ni: canal de entrada (ou nº de features de entrada)\n",
        "#nf: features de saída\n",
        "def conv(ni, nf): return nn.Conv2d(ni, nf, kernel_size=3, stride=2, padding=1)"
      ]
    },
    {
      "cell_type": "code",
      "execution_count": 23,
      "metadata": {
        "id": "tENz-J7q-XHd"
      },
      "outputs": [],
      "source": [
        "# Batch Normalization: normalização dos dados para acelerar o treinamento;\n",
        "def bn(nf): return nn.BatchNorm2d(nf)"
      ]
    },
    {
      "cell_type": "code",
      "execution_count": 24,
      "metadata": {
        "id": "YcyCER3k-uPx"
      },
      "outputs": [],
      "source": [
        "def ReLU(): return nn.ReLU(inplace=False)"
      ]
    },
    {
      "cell_type": "code",
      "execution_count": 25,
      "metadata": {
        "id": "UYHLEvOu--Vp"
      },
      "outputs": [],
      "source": [
        "# Modelo\n",
        "modelIADD = nn.Sequential(\n",
        "    conv(1, 8),\n",
        "    bn(8),\n",
        "    ReLU(),\n",
        "    conv(8, 16),\n",
        "    bn(16),\n",
        "    ReLU(),\n",
        "    conv(16,32),\n",
        "    bn(32),\n",
        "    ReLU(),\n",
        "    conv(32, 16),\n",
        "    bn(16),\n",
        "    ReLU(),\n",
        "    conv(16, 10),\n",
        "    bn(10),\n",
        "    Flatten()\n",
        ")"
      ]
    },
    {
      "cell_type": "code",
      "execution_count": 27,
      "metadata": {
        "id": "j1EtrFeAAAWe"
      },
      "outputs": [],
      "source": [
        "#xb, yb = first(dls.valid)\n",
        "xb, yb = dls.one_batch()"
      ]
    },
    {
      "cell_type": "code",
      "execution_count": 28,
      "metadata": {
        "colab": {
          "base_uri": "https://localhost:8080/"
        },
        "id": "ftvAeT0HALXX",
        "outputId": "90e4a24e-1fdf-4f6c-aea4-355bc542b185"
      },
      "outputs": [
        {
          "output_type": "execute_result",
          "data": {
            "text/plain": [
              "torch.Size([16, 1, 224, 224])"
            ]
          },
          "metadata": {},
          "execution_count": 28
        }
      ],
      "source": [
        "#bs=16, chanel=1, size=224x224\n",
        "xb.shape"
      ]
    },
    {
      "cell_type": "code",
      "execution_count": 29,
      "metadata": {
        "colab": {
          "base_uri": "https://localhost:8080/"
        },
        "id": "P1InJay6DYrk",
        "outputId": "cf1db42c-c0d4-4d13-be1c-7fe2de1d6529"
      },
      "outputs": [
        {
          "output_type": "execute_result",
          "data": {
            "text/plain": [
              "2"
            ]
          },
          "metadata": {},
          "execution_count": 29
        }
      ],
      "source": [
        "# Total de CLasses\n",
        "dls.c"
      ]
    },
    {
      "cell_type": "code",
      "execution_count": 30,
      "metadata": {
        "id": "NEj9npqIAc60"
      },
      "outputs": [],
      "source": [
        "# No método Learner o Dropout é ativado automaticamente\n",
        "learn = Learner(\n",
        "    dls, \n",
        "    modelIADD, \n",
        "    loss_func=F.cross_entropy, #funcao para minimizar o erro\n",
        "    metrics=[accuracy, error_rate])"
      ]
    },
    {
      "cell_type": "code",
      "execution_count": 31,
      "metadata": {
        "colab": {
          "base_uri": "https://localhost:8080/",
          "height": 763
        },
        "id": "qXQc__S_CZXK",
        "outputId": "2189a9d5-8ab0-4af2-dbd8-123af25ed906"
      },
      "outputs": [
        {
          "output_type": "display_data",
          "data": {
            "text/plain": [
              "<IPython.core.display.HTML object>"
            ],
            "text/html": [
              "\n",
              "<style>\n",
              "    /* Turns off some styling */\n",
              "    progress {\n",
              "        /* gets rid of default border in Firefox and Opera. */\n",
              "        border: none;\n",
              "        /* Needs to be in here for Safari polyfill so background images work as expected. */\n",
              "        background-size: auto;\n",
              "    }\n",
              "    .progress-bar-interrupted, .progress-bar-interrupted::-webkit-progress-bar {\n",
              "        background: #F44336;\n",
              "    }\n",
              "</style>\n"
            ]
          },
          "metadata": {}
        },
        {
          "output_type": "display_data",
          "data": {
            "text/plain": [
              "<IPython.core.display.HTML object>"
            ],
            "text/html": [
              ""
            ]
          },
          "metadata": {}
        },
        {
          "output_type": "execute_result",
          "data": {
            "text/plain": [
              "Sequential (Input shape: 16 x 1 x 224 x 224)\n",
              "============================================================================\n",
              "Layer (type)         Output Shape         Param #    Trainable \n",
              "============================================================================\n",
              "                     16 x 8 x 112 x 112  \n",
              "Conv2d                                    80         True      \n",
              "BatchNorm2d                               16         True      \n",
              "ReLU                                                           \n",
              "____________________________________________________________________________\n",
              "                     16 x 16 x 56 x 56   \n",
              "Conv2d                                    1168       True      \n",
              "BatchNorm2d                               32         True      \n",
              "ReLU                                                           \n",
              "____________________________________________________________________________\n",
              "                     16 x 32 x 28 x 28   \n",
              "Conv2d                                    4640       True      \n",
              "BatchNorm2d                               64         True      \n",
              "ReLU                                                           \n",
              "____________________________________________________________________________\n",
              "                     16 x 16 x 14 x 14   \n",
              "Conv2d                                    4624       True      \n",
              "BatchNorm2d                               32         True      \n",
              "ReLU                                                           \n",
              "____________________________________________________________________________\n",
              "                     16 x 10 x 7 x 7     \n",
              "Conv2d                                    1450       True      \n",
              "BatchNorm2d                               20         True      \n",
              "____________________________________________________________________________\n",
              "                     16 x 490            \n",
              "Flatten                                                        \n",
              "____________________________________________________________________________\n",
              "\n",
              "Total params: 12,126\n",
              "Total trainable params: 12,126\n",
              "Total non-trainable params: 0\n",
              "\n",
              "Optimizer used: <function Adam at 0x7f9ade379200>\n",
              "Loss function: <function cross_entropy at 0x7f9b0ee4f680>\n",
              "\n",
              "Callbacks:\n",
              "  - TrainEvalCallback\n",
              "  - Recorder\n",
              "  - ProgressCallback"
            ],
            "application/vnd.google.colaboratory.intrinsic+json": {
              "type": "string"
            }
          },
          "metadata": {},
          "execution_count": 31
        }
      ],
      "source": [
        "learn.summary()"
      ]
    },
    {
      "cell_type": "markdown",
      "source": [
        "Treinamento usando 4 épocas"
      ],
      "metadata": {
        "id": "15ucqKwt7gNi"
      }
    },
    {
      "cell_type": "code",
      "source": [
        "learn.fine_tune(4)"
      ],
      "metadata": {
        "colab": {
          "base_uri": "https://localhost:8080/",
          "height": 239
        },
        "id": "IzvrKkT2M1fT",
        "outputId": "2af6a8ce-6eda-4e88-b1b9-185d7f6913ea"
      },
      "execution_count": 36,
      "outputs": [
        {
          "output_type": "display_data",
          "data": {
            "text/plain": [
              "<IPython.core.display.HTML object>"
            ],
            "text/html": [
              "\n",
              "<style>\n",
              "    /* Turns off some styling */\n",
              "    progress {\n",
              "        /* gets rid of default border in Firefox and Opera. */\n",
              "        border: none;\n",
              "        /* Needs to be in here for Safari polyfill so background images work as expected. */\n",
              "        background-size: auto;\n",
              "    }\n",
              "    .progress-bar-interrupted, .progress-bar-interrupted::-webkit-progress-bar {\n",
              "        background: #F44336;\n",
              "    }\n",
              "</style>\n"
            ]
          },
          "metadata": {}
        },
        {
          "output_type": "display_data",
          "data": {
            "text/plain": [
              "<IPython.core.display.HTML object>"
            ],
            "text/html": [
              "<table border=\"1\" class=\"dataframe\">\n",
              "  <thead>\n",
              "    <tr style=\"text-align: left;\">\n",
              "      <th>epoch</th>\n",
              "      <th>train_loss</th>\n",
              "      <th>valid_loss</th>\n",
              "      <th>accuracy</th>\n",
              "      <th>error_rate</th>\n",
              "      <th>time</th>\n",
              "    </tr>\n",
              "  </thead>\n",
              "  <tbody>\n",
              "    <tr>\n",
              "      <td>0</td>\n",
              "      <td>3.767224</td>\n",
              "      <td>4.541299</td>\n",
              "      <td>0.622951</td>\n",
              "      <td>0.377049</td>\n",
              "      <td>10:14</td>\n",
              "    </tr>\n",
              "  </tbody>\n",
              "</table>"
            ]
          },
          "metadata": {}
        },
        {
          "output_type": "display_data",
          "data": {
            "text/plain": [
              "<IPython.core.display.HTML object>"
            ],
            "text/html": [
              "\n",
              "<style>\n",
              "    /* Turns off some styling */\n",
              "    progress {\n",
              "        /* gets rid of default border in Firefox and Opera. */\n",
              "        border: none;\n",
              "        /* Needs to be in here for Safari polyfill so background images work as expected. */\n",
              "        background-size: auto;\n",
              "    }\n",
              "    .progress-bar-interrupted, .progress-bar-interrupted::-webkit-progress-bar {\n",
              "        background: #F44336;\n",
              "    }\n",
              "</style>\n"
            ]
          },
          "metadata": {}
        },
        {
          "output_type": "display_data",
          "data": {
            "text/plain": [
              "<IPython.core.display.HTML object>"
            ],
            "text/html": [
              "<table border=\"1\" class=\"dataframe\">\n",
              "  <thead>\n",
              "    <tr style=\"text-align: left;\">\n",
              "      <th>epoch</th>\n",
              "      <th>train_loss</th>\n",
              "      <th>valid_loss</th>\n",
              "      <th>accuracy</th>\n",
              "      <th>error_rate</th>\n",
              "      <th>time</th>\n",
              "    </tr>\n",
              "  </thead>\n",
              "  <tbody>\n",
              "    <tr>\n",
              "      <td>0</td>\n",
              "      <td>2.941144</td>\n",
              "      <td>3.103475</td>\n",
              "      <td>0.606557</td>\n",
              "      <td>0.393443</td>\n",
              "      <td>07:02</td>\n",
              "    </tr>\n",
              "    <tr>\n",
              "      <td>1</td>\n",
              "      <td>2.890906</td>\n",
              "      <td>2.349012</td>\n",
              "      <td>0.631148</td>\n",
              "      <td>0.368852</td>\n",
              "      <td>07:02</td>\n",
              "    </tr>\n",
              "    <tr>\n",
              "      <td>2</td>\n",
              "      <td>2.748677</td>\n",
              "      <td>2.378108</td>\n",
              "      <td>0.606557</td>\n",
              "      <td>0.393443</td>\n",
              "      <td>06:53</td>\n",
              "    </tr>\n",
              "    <tr>\n",
              "      <td>3</td>\n",
              "      <td>2.616279</td>\n",
              "      <td>2.314038</td>\n",
              "      <td>0.631148</td>\n",
              "      <td>0.368852</td>\n",
              "      <td>06:38</td>\n",
              "    </tr>\n",
              "  </tbody>\n",
              "</table>"
            ]
          },
          "metadata": {}
        }
      ]
    },
    {
      "cell_type": "code",
      "source": [
        "# Confusion matrix\n",
        "interp = ClassificationInterpretation.from_learner(learn)\n",
        "interp.plot_confusion_matrix(title='Confusion matrix', figsize=(7,7))"
      ],
      "metadata": {
        "colab": {
          "base_uri": "https://localhost:8080/",
          "height": 201
        },
        "id": "kQHZy012W2a3",
        "outputId": "1559701b-a58f-498e-caed-c82b45021172"
      },
      "execution_count": 1,
      "outputs": [
        {
          "output_type": "error",
          "ename": "NameError",
          "evalue": "ignored",
          "traceback": [
            "\u001b[0;31m---------------------------------------------------------------------------\u001b[0m",
            "\u001b[0;31mNameError\u001b[0m                                 Traceback (most recent call last)",
            "\u001b[0;32m<ipython-input-1-743711086388>\u001b[0m in \u001b[0;36m<module>\u001b[0;34m()\u001b[0m\n\u001b[1;32m      1\u001b[0m \u001b[0;31m# Confusion matrix\u001b[0m\u001b[0;34m\u001b[0m\u001b[0;34m\u001b[0m\u001b[0;34m\u001b[0m\u001b[0m\n\u001b[0;32m----> 2\u001b[0;31m \u001b[0minterp\u001b[0m \u001b[0;34m=\u001b[0m \u001b[0mClassificationInterpretation\u001b[0m\u001b[0;34m.\u001b[0m\u001b[0mfrom_learner\u001b[0m\u001b[0;34m(\u001b[0m\u001b[0mlearn\u001b[0m\u001b[0;34m)\u001b[0m\u001b[0;34m\u001b[0m\u001b[0;34m\u001b[0m\u001b[0m\n\u001b[0m\u001b[1;32m      3\u001b[0m \u001b[0minterp\u001b[0m\u001b[0;34m.\u001b[0m\u001b[0mplot_confusion_matrix\u001b[0m\u001b[0;34m(\u001b[0m\u001b[0mtitle\u001b[0m\u001b[0;34m=\u001b[0m\u001b[0;34m'Confusion matrix'\u001b[0m\u001b[0;34m,\u001b[0m \u001b[0mfigsize\u001b[0m\u001b[0;34m=\u001b[0m\u001b[0;34m(\u001b[0m\u001b[0;36m7\u001b[0m\u001b[0;34m,\u001b[0m\u001b[0;36m7\u001b[0m\u001b[0;34m)\u001b[0m\u001b[0;34m)\u001b[0m\u001b[0;34m\u001b[0m\u001b[0;34m\u001b[0m\u001b[0m\n",
            "\u001b[0;31mNameError\u001b[0m: name 'ClassificationInterpretation' is not defined"
          ]
        }
      ]
    },
    {
      "cell_type": "code",
      "source": [
        "#Parametros da Matriz de Confusão\n",
        "upp, low = interp.confusion_matrix()\n",
        "VP, FN = upp[0], upp[1]\n",
        "FP, VN = low[0], low[1]\n",
        "\n",
        "print(VP, FN, FP, VN) #Dica: VP são as pessoas \"Verdadeiramente Doentes\", VN \"Verdadeiramente NÃO Doentes\""
      ],
      "metadata": {
        "id": "Y2GN8OdVXgMM"
      },
      "execution_count": null,
      "outputs": []
    },
    {
      "cell_type": "markdown",
      "source": [
        "### Sensibilidade e Especifidade (Sensitivity and Specificity)"
      ],
      "metadata": {
        "id": "HFG6GFY2Xj8A"
      }
    },
    {
      "cell_type": "code",
      "source": [
        "#Sensibilidade = Verdadeiro Positivo/(Verdadeiro Positivo + False Negativo)\n",
        "\n",
        "Sensibilidade = VP/(VP + FN)\n",
        "Sensibilidade\n"
      ],
      "metadata": {
        "id": "legEfI0lXnei"
      },
      "execution_count": null,
      "outputs": []
    },
    {
      "cell_type": "code",
      "source": [
        "#Especificidade = Verdadeiro Negativo/(False Positivo + Verdadeiro Negativo\n",
        "\n",
        "Especificidade = VN/(FP + VN)\n",
        "Especificidade"
      ],
      "metadata": {
        "id": "6oWInXNoXrz8"
      },
      "execution_count": null,
      "outputs": []
    },
    {
      "cell_type": "markdown",
      "source": [
        "### Acuracia: Informa quantos de nossos exemplos foram de fato classificados corretamente, independente da classe. Ex.: Por exemplo, se temos 100 observações e 90 delas foram classificados corretamente, nosso modelo possui uma acurácia de 90%."
      ],
      "metadata": {
        "id": "vNhtzhO2Xz8-"
      }
    },
    {
      "cell_type": "code",
      "source": [
        "preds,y, loss = learn.get_preds(with_loss=True)\n",
        "# get accuracy\n",
        "acc = accuracy(preds, y)\n",
        "print('The accuracy is {0} %.'.format(acc))"
      ],
      "metadata": {
        "id": "iEHXCHTSXx9h"
      },
      "execution_count": null,
      "outputs": []
    },
    {
      "cell_type": "markdown",
      "source": [
        "### AUC — Area Under the Curve ou AUROC — Area Under the Receiver Operating Characteristic curve): vantagem desta métrica é que ela não é sensível ao desbalanço de classes, como ocorre com a acurácia."
      ],
      "metadata": {
        "id": "4fwQJ5Q8X53x"
      }
    },
    {
      "cell_type": "code",
      "source": [
        "from sklearn.metrics import roc_curve, auc\n",
        "# probs from log preds\n",
        "probs = np.exp(preds[:,1])\n",
        "# Compute ROC curve\n",
        "fpr, tpr, thresholds = roc_curve(y, probs, pos_label=1)\n",
        "\n",
        "# Compute ROC area\n",
        "roc_auc = auc(fpr, tpr)\n",
        "print('ROC area is {0}'.format(roc_auc))"
      ],
      "metadata": {
        "id": "RFq44sNJX9UM"
      },
      "execution_count": null,
      "outputs": []
    },
    {
      "cell_type": "code",
      "source": [
        "plt.figure()\n",
        "plt.plot(fpr, tpr, color='darkorange', label='ROC curve (area = %0.2f)' % roc_auc)\n",
        "plt.plot([0, 1], [0, 1], color='navy', linestyle='--')\n",
        "plt.xlim([-0.01, 1.0])\n",
        "plt.ylim([0.0, 1.01])\n",
        "plt.xlabel('False Positive Rate')\n",
        "plt.ylabel('True Positive Rate')\n",
        "plt.title('Receiver operating characteristic')\n",
        "plt.legend(loc=\"lower right\")"
      ],
      "metadata": {
        "id": "rD1rTOS7X_K3"
      },
      "execution_count": null,
      "outputs": []
    }
  ],
  "metadata": {
    "accelerator": "GPU",
    "colab": {
      "name": "[2022]IADD_FastAI_CNN_Intro.ipynb",
      "provenance": [],
      "collapsed_sections": [],
      "mount_file_id": "1JhitztpO2Ri-OG8FjaGDO8fwyYBbyETX",
      "authorship_tag": "ABX9TyMlymsPuk1IvV3qXuUxm/02",
      "include_colab_link": true
    },
    "kernelspec": {
      "display_name": "Python 3",
      "name": "python3"
    },
    "language_info": {
      "name": "python"
    }
  },
  "nbformat": 4,
  "nbformat_minor": 0
}
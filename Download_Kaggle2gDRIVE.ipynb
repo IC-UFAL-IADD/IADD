{
  "nbformat": 4,
  "nbformat_minor": 0,
  "metadata": {
    "colab": {
      "name": "Download_Kaggle2gDRIVE.ipynb",
      "provenance": [],
      "collapsed_sections": [],
      "mount_file_id": "1UD5fzicuCLSaQaLXe9RzvkEfTYCuGtxZ",
      "authorship_tag": "ABX9TyN8lSgJm27HudvjmCe+Oj2+",
      "include_colab_link": true
    },
    "kernelspec": {
      "name": "python3",
      "display_name": "Python 3"
    },
    "language_info": {
      "name": "python"
    }
  },
  "cells": [
    {
      "cell_type": "markdown",
      "metadata": {
        "id": "view-in-github",
        "colab_type": "text"
      },
      "source": [
        "<a href=\"https://colab.research.google.com/github/IC-UFAL-IADD/IADD/blob/codebasics/Download_Kaggle2gDRIVE.ipynb\" target=\"_parent\"><img src=\"https://colab.research.google.com/assets/colab-badge.svg\" alt=\"Open In Colab\"/></a>"
      ]
    },
    {
      "cell_type": "code",
      "metadata": {
        "id": "vdxzBBU4dGzp"
      },
      "source": [
        "!pip uninstall -y kaggle\n",
        "!pip install --upgrade pip\n",
        "!pip install kaggle==1.5.6"
      ],
      "execution_count": null,
      "outputs": []
    },
    {
      "cell_type": "code",
      "metadata": {
        "id": "Ki5vSN6iMC-1"
      },
      "source": [
        "#Configuration environment\n",
        "import os\n",
        "\n",
        "os.environ['KAGGLE_USERNAME'] = \"oliveiramc\" # username from the json file\n",
        "os.environ['KAGGLE_KEY'] = \"8ac9b8dda31bea4a3096978604e8faeb\" # key from the json file\n"
      ],
      "execution_count": 31,
      "outputs": []
    },
    {
      "cell_type": "code",
      "metadata": {
        "colab": {
          "base_uri": "https://localhost:8080/"
        },
        "id": "cS4451CCPHvt",
        "outputId": "52fdca7d-1dac-4e55-97d7-f0e4e35c111a"
      },
      "source": [
        "print(\"Current working directory: {0}\".format(os.getcwd()))"
      ],
      "execution_count": 21,
      "outputs": [
        {
          "output_type": "stream",
          "name": "stdout",
          "text": [
            "Current working directory: /content/drive/My Drive/DataSets/rsna-miccai-brain-tumor-radiogenomic-classification\n"
          ]
        }
      ]
    },
    {
      "cell_type": "code",
      "metadata": {
        "id": "uHk4Rk9cOaon"
      },
      "source": [
        "path = \"/content/drive/My Drive/DataSets/rsna-miccai-brain-tumor-radiogenomic-classification\"\n",
        "os.chdir(path)"
      ],
      "execution_count": 34,
      "outputs": []
    },
    {
      "cell_type": "code",
      "metadata": {
        "colab": {
          "base_uri": "https://localhost:8080/"
        },
        "id": "gWj9AzxzM9cS",
        "outputId": "f7db2147-b1ed-45a9-9ad6-fa786d35c225"
      },
      "source": [
        "#Download rsna-miccai-brain-tumor-radiogenomic-classification from Kaggle API\n",
        "!kaggle competitions download -c rsna-miccai-brain-tumor-radiogenomic-classification"
      ],
      "execution_count": 35,
      "outputs": [
        {
          "output_type": "stream",
          "name": "stdout",
          "text": [
            "Downloading rsna-miccai-brain-tumor-radiogenomic-classification.zip to /content/drive/My Drive/DataSets/rsna-miccai-brain-tumor-radiogenomic-classification\n",
            "100% 12.3G/12.3G [04:04<00:00, 86.7MB/s]\n",
            "100% 12.3G/12.3G [04:06<00:00, 53.6MB/s]\n"
          ]
        }
      ]
    }
  ]
}